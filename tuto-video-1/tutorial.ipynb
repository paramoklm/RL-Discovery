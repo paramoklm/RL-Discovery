{
 "cells": [
  {
   "attachments": {},
   "cell_type": "markdown",
   "metadata": {},
   "source": [
    "# Install dependecies"
   ]
  },
  {
   "cell_type": "code",
   "execution_count": 7,
   "metadata": {},
   "outputs": [],
   "source": [
    "# !pip3 install tensorflow\n",
    "# !pip3 install gym\n",
    "# !pip3 install keras\n",
    "# !pip3 install keras-rl2\n",
    "# !pip3 install gym[classic_control] Invalid"
   ]
  },
  {
   "attachments": {},
   "cell_type": "markdown",
   "metadata": {},
   "source": [
    "# 1. Test Random Environment with OpenAI Gym"
   ]
  },
  {
   "cell_type": "code",
   "execution_count": 1,
   "metadata": {},
   "outputs": [],
   "source": [
    "import gym\n",
    "import random"
   ]
  },
  {
   "attachments": {},
   "cell_type": "markdown",
   "metadata": {},
   "source": [
    "## Get the environment from the gym library\n",
    "#### https://www.gymlibrary.dev/api/core/#gym.Env.render\n",
    "#### `gym.make` takes argument\n",
    "- Name of the environment (CartPole-v1)\n",
    "- `render_mode`: human (continous vizualisation), rgb_array (get frame), and more..."
   ]
  },
  {
   "cell_type": "code",
   "execution_count": 2,
   "metadata": {},
   "outputs": [],
   "source": [
    "env = gym.make(\"CartPole-v1\", render_mode='human')"
   ]
  },
  {
   "attachments": {},
   "cell_type": "markdown",
   "metadata": {},
   "source": [
    "## Spaces\n",
    "#### https://www.gymlibrary.dev/api/spaces/#spaces\n",
    "Spaces are used in Gym to define the format of valid actions and observations. "
   ]
  },
  {
   "attachments": {},
   "cell_type": "markdown",
   "metadata": {},
   "source": [
    "### Observation Space\n",
    "https://www.gymlibrary.dev/api/core/#gym.Env.observation_space\n",
    "\n",
    "Attribute of the `Env` class.  \n",
    "This attribute gives the format of valid observations. There are different types of observation space. The most basic one is `Box`.  \n",
    "\n",
    "The `Box` type has a shape, let's say 4, this denotes a valid observation will be an array of 4 numbers."
   ]
  },
  {
   "cell_type": "code",
   "execution_count": 3,
   "metadata": {},
   "outputs": [],
   "source": [
    "states = env.observation_space"
   ]
  },
  {
   "attachments": {},
   "cell_type": "markdown",
   "metadata": {},
   "source": [
    "In our case: https://gymnasium.farama.org/environments/classic_control/cart_pole/#observation-space\n",
    "\n",
    "- 0: Cart Position = [-4.8, 4.8]\n",
    "- 1: Cart Velocity = [-Inf, Inf]\n",
    "- 2: Pole Angle = [~ -0.418, ~ 0.418] rad\n",
    "- 3: Pole Angular Velocity = [-Inf, Inf]"
   ]
  },
  {
   "cell_type": "code",
   "execution_count": 4,
   "metadata": {},
   "outputs": [
    {
     "data": {
      "text/plain": [
       "Box([-4.8000002e+00 -3.4028235e+38 -4.1887903e-01 -3.4028235e+38], [4.8000002e+00 3.4028235e+38 4.1887903e-01 3.4028235e+38], (4,), float32)"
      ]
     },
     "execution_count": 4,
     "metadata": {},
     "output_type": "execute_result"
    }
   ],
   "source": [
    "states"
   ]
  },
  {
   "attachments": {},
   "cell_type": "markdown",
   "metadata": {},
   "source": [
    "Get higher and lower bound"
   ]
  },
  {
   "cell_type": "code",
   "execution_count": 5,
   "metadata": {},
   "outputs": [
    {
     "name": "stdout",
     "output_type": "stream",
     "text": [
      "[4.8000002e+00 3.4028235e+38 4.1887903e-01 3.4028235e+38]\n",
      "[-4.8000002e+00 -3.4028235e+38 -4.1887903e-01 -3.4028235e+38]\n"
     ]
    }
   ],
   "source": [
    "print(states.high)\n",
    "print(states.low)"
   ]
  },
  {
   "attachments": {},
   "cell_type": "markdown",
   "metadata": {},
   "source": [
    "#### Usually, we only need the number of elements that constitutes our observation space (here 4)"
   ]
  },
  {
   "cell_type": "code",
   "execution_count": 6,
   "metadata": {},
   "outputs": [
    {
     "data": {
      "text/plain": [
       "4"
      ]
     },
     "execution_count": 6,
     "metadata": {},
     "output_type": "execute_result"
    }
   ],
   "source": [
    "states = env.observation_space.shape[0]\n",
    "states"
   ]
  },
  {
   "attachments": {},
   "cell_type": "markdown",
   "metadata": {},
   "source": [
    "### Action Space\n",
    "https://www.gymlibrary.dev/api/core/#gym.Env.action_space\n",
    "\n",
    "Attribute of the `Env` class.  \n",
    "This format gives the format of valid actions. Actions can be either `Discrete` or `Continuous`.  \n",
    "\n",
    "If the action space if of type Discrete and gives the value Discrete(2), this means there are two valid discrete actions: 0 & 1."
   ]
  },
  {
   "cell_type": "code",
   "execution_count": 9,
   "metadata": {},
   "outputs": [],
   "source": [
    "actions = env.action_space"
   ]
  },
  {
   "attachments": {},
   "cell_type": "markdown",
   "metadata": {},
   "source": [
    "In our case:\n",
    "https://gymnasium.farama.org/environments/classic_control/cart_pole/#action-space\n",
    "\n",
    "- 0: Push the cart to the left\n",
    "- 1: Push the cart to the right"
   ]
  },
  {
   "cell_type": "code",
   "execution_count": 10,
   "metadata": {},
   "outputs": [
    {
     "data": {
      "text/plain": [
       "Discrete(2)"
      ]
     },
     "execution_count": 10,
     "metadata": {},
     "output_type": "execute_result"
    }
   ],
   "source": [
    "actions"
   ]
  },
  {
   "attachments": {},
   "cell_type": "markdown",
   "metadata": {},
   "source": [
    "#### Usually, we just need the number of different actions"
   ]
  },
  {
   "cell_type": "code",
   "execution_count": 11,
   "metadata": {},
   "outputs": [
    {
     "data": {
      "text/plain": [
       "2"
      ]
     },
     "execution_count": 11,
     "metadata": {},
     "output_type": "execute_result"
    }
   ],
   "source": [
    "actions = env.action_space.n\n",
    "actions"
   ]
  },
  {
   "attachments": {},
   "cell_type": "markdown",
   "metadata": {},
   "source": [
    "## Render episodes with random action"
   ]
  },
  {
   "attachments": {},
   "cell_type": "markdown",
   "metadata": {},
   "source": [
    "##### `env.reset`: Resets the environment to an initial state and returns the initial observation (`observation_space`).\n",
    "Parameters:\n",
    "- seed (optional int)\n",
    "- options (optionai dict): configuration to reset, depends on environment"
   ]
  },
  {
   "attachments": {},
   "cell_type": "markdown",
   "metadata": {},
   "source": [
    "##### `env.render`: Compute the render frames as specified by render_mode attribute during initialization of the environment (`gym.make`)."
   ]
  },
  {
   "attachments": {},
   "cell_type": "markdown",
   "metadata": {},
   "source": [
    "##### `env.step`: Run one timestep of the environment’s dynamics. Takes in parameter an action (`action_space`).\n",
    "\n",
    "Return values:\n",
    "- observation\n",
    "- reward: amount of reward returned as a result of taking the action\n",
    "- terminated: wether a terminal state is reached.\n",
    "- truncated: if not terminal state but still should be stopped (ex: out of bound)\n",
    "- info: dictionary containig various information useful for debugs, metrics...\n",
    "- done: wether an episode has ended.  A done signal may be emitted for different reasons: Maybe the task underlying the environment was solved successfully, a certain timelimit was exceeded, or the physics simulation has entered an invalid state."
   ]
  },
  {
   "cell_type": "code",
   "execution_count": 15,
   "metadata": {},
   "outputs": [
    {
     "name": "stdout",
     "output_type": "stream",
     "text": [
      "Episode:1 Score:16.0\n",
      "Episode:2 Score:19.0\n",
      "Episode:3 Score:16.0\n",
      "Episode:4 Score:46.0\n",
      "Episode:5 Score:11.0\n",
      "Episode:6 Score:15.0\n",
      "Episode:7 Score:20.0\n",
      "Episode:8 Score:12.0\n",
      "Episode:9 Score:11.0\n",
      "Episode:10 Score:26.0\n"
     ]
    }
   ],
   "source": [
    "# Generate 10 episodes\n",
    "episodes = 10\n",
    "for episode in range(0, episodes):\n",
    "    # Reset environment for beginning of each episode\n",
    "    state = env.reset()\n",
    "    terminated= False\n",
    "    score = 0\n",
    "\n",
    "    # While episode has not ended\n",
    "    while not terminated:\n",
    "        # Render animation\n",
    "        env.render()\n",
    "        # Choose at random left or right\n",
    "        action = random.choice([0, 1])\n",
    "        # Do action and get info\n",
    "        _, reward, terminated, _, info = env.step(action) # done is not a return value here\n",
    "        # Add reward to score of episode\n",
    "        score += reward\n",
    "    # Print scores of each episode\n",
    "    print('Episode:{} Score:{}'.format(episode + 1, score))"
   ]
  }
 ],
 "metadata": {
  "kernelspec": {
   "display_name": "Python 3",
   "language": "python",
   "name": "python3"
  },
  "language_info": {
   "codemirror_mode": {
    "name": "ipython",
    "version": 3
   },
   "file_extension": ".py",
   "mimetype": "text/x-python",
   "name": "python",
   "nbconvert_exporter": "python",
   "pygments_lexer": "ipython3",
   "version": "3.11.5"
  },
  "orig_nbformat": 4
 },
 "nbformat": 4,
 "nbformat_minor": 2
}
